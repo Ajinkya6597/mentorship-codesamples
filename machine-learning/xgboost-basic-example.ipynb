{
 "cells": [
  {
   "attachments": {},
   "cell_type": "markdown",
   "metadata": {},
   "source": [
    "# XGBoost Classification - A Basic Tutorial"
   ]
  },
  {
   "attachments": {},
   "cell_type": "markdown",
   "metadata": {},
   "source": [
    "![image.png](https://raw.githubusercontent.com/dmlc/dmlc.github.io/master/img/logo-m/xgboost.png)"
   ]
  },
  {
   "attachments": {},
   "cell_type": "markdown",
   "metadata": {},
   "source": [
    "**XGBoost** is an open-source software library for gradient boosting on decision trees. It is designed for efficient and scalable handling of large datasets and is particularly useful for machine learning competitions and other high-performance machine learning tasks. XGBoost is widely used in industry and academia due to its high performance and ease of use."
   ]
  },
  {
   "attachments": {},
   "cell_type": "markdown",
   "metadata": {},
   "source": [
    "#### Installing XGBoost\n",
    "\n",
    "You can install XGBoost using pip, which is a package installer for Python. To install the latest version of XGBoost, you can run the following command in your command prompt or terminal:"
   ]
  },
  {
   "cell_type": "code",
   "execution_count": 2,
   "metadata": {},
   "outputs": [
    {
     "name": "stdout",
     "output_type": "stream",
     "text": [
      "Requirement already satisfied: xgboost in /usr/local/python/3.10.4/lib/python3.10/site-packages (1.7.3)\n",
      "Requirement already satisfied: scipy in /home/codespace/.local/lib/python3.10/site-packages (from xgboost) (1.9.3)\n",
      "Requirement already satisfied: numpy in /home/codespace/.local/lib/python3.10/site-packages (from xgboost) (1.24.0)\n"
     ]
    }
   ],
   "source": [
    "!pip install xgboost"
   ]
  },
  {
   "attachments": {},
   "cell_type": "markdown",
   "metadata": {},
   "source": [
    "#### XGBoost to train a classifier on a built-in dataset from scikit-learn"
   ]
  },
  {
   "attachments": {},
   "cell_type": "markdown",
   "metadata": {},
   "source": [
    "The below code does the following:\n",
    "\n",
    "- Import the necessary libraries: xgboost, scikit-learn, and seaborn\n",
    "- Load the Iris dataset and split it into training and test sets\n",
    "- Convert the data into an XGBoost-compatible format using xgb.DMatrix\n",
    "- Define the parameters for the XGBoost model\n",
    "- Train the model by specifying the training dataset, evaluation dataset and number of rounds\n",
    "- Plot the training loss using matplotlib\n",
    "\n",
    "Note that this is a basic example and you may want to tune the parameters and try different variations to get the best performance for your specific use case."
   ]
  },
  {
   "cell_type": "code",
   "execution_count": 46,
   "metadata": {},
   "outputs": [
    {
     "name": "stdout",
     "output_type": "stream",
     "text": [
      "[0]\teval-mlogloss:0.72604\ttrain-mlogloss:0.74723\n",
      "[1]\teval-mlogloss:0.50842\ttrain-mlogloss:0.54060\n",
      "[2]\teval-mlogloss:0.36744\ttrain-mlogloss:0.40276\n",
      "[3]\teval-mlogloss:0.27203\ttrain-mlogloss:0.30789\n",
      "[4]\teval-mlogloss:0.20487\ttrain-mlogloss:0.24051\n",
      "[5]\teval-mlogloss:0.15866\ttrain-mlogloss:0.19086\n",
      "[6]\teval-mlogloss:0.12503\ttrain-mlogloss:0.15471\n",
      "[7]\teval-mlogloss:0.09808\ttrain-mlogloss:0.12807\n",
      "[8]\teval-mlogloss:0.08104\ttrain-mlogloss:0.10722\n",
      "[9]\teval-mlogloss:0.06622\ttrain-mlogloss:0.09053\n",
      "[10]\teval-mlogloss:0.05690\ttrain-mlogloss:0.07764\n",
      "[11]\teval-mlogloss:0.04823\ttrain-mlogloss:0.06787\n",
      "[12]\teval-mlogloss:0.04289\ttrain-mlogloss:0.06056\n",
      "[13]\teval-mlogloss:0.03730\ttrain-mlogloss:0.05447\n",
      "[14]\teval-mlogloss:0.03349\ttrain-mlogloss:0.04981\n",
      "[15]\teval-mlogloss:0.02955\ttrain-mlogloss:0.04527\n",
      "[16]\teval-mlogloss:0.02698\ttrain-mlogloss:0.04231\n",
      "[17]\teval-mlogloss:0.02506\ttrain-mlogloss:0.03888\n",
      "[18]\teval-mlogloss:0.02271\ttrain-mlogloss:0.03672\n",
      "[19]\teval-mlogloss:0.02059\ttrain-mlogloss:0.03505\n",
      "[20]\teval-mlogloss:0.01938\ttrain-mlogloss:0.03413\n",
      "[21]\teval-mlogloss:0.01889\ttrain-mlogloss:0.03272\n",
      "[22]\teval-mlogloss:0.01871\ttrain-mlogloss:0.03183\n",
      "[23]\teval-mlogloss:0.01803\ttrain-mlogloss:0.03125\n",
      "[24]\teval-mlogloss:0.01780\ttrain-mlogloss:0.03055\n",
      "[25]\teval-mlogloss:0.01736\ttrain-mlogloss:0.02978\n",
      "[26]\teval-mlogloss:0.01704\ttrain-mlogloss:0.02916\n",
      "[27]\teval-mlogloss:0.01727\ttrain-mlogloss:0.02867\n",
      "[28]\teval-mlogloss:0.01679\ttrain-mlogloss:0.02830\n",
      "[29]\teval-mlogloss:0.01641\ttrain-mlogloss:0.02782\n",
      "[30]\teval-mlogloss:0.01623\ttrain-mlogloss:0.02724\n",
      "[31]\teval-mlogloss:0.01583\ttrain-mlogloss:0.02686\n",
      "[32]\teval-mlogloss:0.01510\ttrain-mlogloss:0.02634\n",
      "[33]\teval-mlogloss:0.01469\ttrain-mlogloss:0.02598\n",
      "[34]\teval-mlogloss:0.01475\ttrain-mlogloss:0.02569\n",
      "[35]\teval-mlogloss:0.01449\ttrain-mlogloss:0.02534\n",
      "[36]\teval-mlogloss:0.01455\ttrain-mlogloss:0.02509\n",
      "[37]\teval-mlogloss:0.01391\ttrain-mlogloss:0.02463\n",
      "[38]\teval-mlogloss:0.01370\ttrain-mlogloss:0.02438\n",
      "[39]\teval-mlogloss:0.01380\ttrain-mlogloss:0.02416\n",
      "[40]\teval-mlogloss:0.01318\ttrain-mlogloss:0.02388\n",
      "[41]\teval-mlogloss:0.01325\ttrain-mlogloss:0.02367\n",
      "[42]\teval-mlogloss:0.01307\ttrain-mlogloss:0.02347\n",
      "[43]\teval-mlogloss:0.01249\ttrain-mlogloss:0.02322\n",
      "[44]\teval-mlogloss:0.01233\ttrain-mlogloss:0.02304\n",
      "[45]\teval-mlogloss:0.01210\ttrain-mlogloss:0.02286\n",
      "[46]\teval-mlogloss:0.01194\ttrain-mlogloss:0.02248\n",
      "[47]\teval-mlogloss:0.01191\ttrain-mlogloss:0.02228\n",
      "[48]\teval-mlogloss:0.01180\ttrain-mlogloss:0.02212\n",
      "[49]\teval-mlogloss:0.01145\ttrain-mlogloss:0.02195\n",
      "[50]\teval-mlogloss:0.01133\ttrain-mlogloss:0.02179\n",
      "[51]\teval-mlogloss:0.01114\ttrain-mlogloss:0.02164\n",
      "[52]\teval-mlogloss:0.01105\ttrain-mlogloss:0.02150\n",
      "[53]\teval-mlogloss:0.01096\ttrain-mlogloss:0.02132\n",
      "[54]\teval-mlogloss:0.01087\ttrain-mlogloss:0.02119\n",
      "[55]\teval-mlogloss:0.01070\ttrain-mlogloss:0.02106\n",
      "[56]\teval-mlogloss:0.01062\ttrain-mlogloss:0.02090\n",
      "[57]\teval-mlogloss:0.01064\ttrain-mlogloss:0.02080\n",
      "[58]\teval-mlogloss:0.01044\ttrain-mlogloss:0.02067\n",
      "[59]\teval-mlogloss:0.01029\ttrain-mlogloss:0.02055\n",
      "[60]\teval-mlogloss:0.01029\ttrain-mlogloss:0.02041\n",
      "[61]\teval-mlogloss:0.01011\ttrain-mlogloss:0.02030\n",
      "[62]\teval-mlogloss:0.01026\ttrain-mlogloss:0.02021\n",
      "[63]\teval-mlogloss:0.01026\ttrain-mlogloss:0.02007\n",
      "[64]\teval-mlogloss:0.01015\ttrain-mlogloss:0.01994\n",
      "[65]\teval-mlogloss:0.01006\ttrain-mlogloss:0.01984\n",
      "[66]\teval-mlogloss:0.01005\ttrain-mlogloss:0.01976\n",
      "[67]\teval-mlogloss:0.00988\ttrain-mlogloss:0.01966\n",
      "[68]\teval-mlogloss:0.00990\ttrain-mlogloss:0.01953\n",
      "[69]\teval-mlogloss:0.01004\ttrain-mlogloss:0.01945\n",
      "[70]\teval-mlogloss:0.00994\ttrain-mlogloss:0.01932\n",
      "[71]\teval-mlogloss:0.00985\ttrain-mlogloss:0.01925\n",
      "[72]\teval-mlogloss:0.00987\ttrain-mlogloss:0.01912\n",
      "[73]\teval-mlogloss:0.01001\ttrain-mlogloss:0.01905\n",
      "[74]\teval-mlogloss:0.00991\ttrain-mlogloss:0.01894\n",
      "[75]\teval-mlogloss:0.00992\ttrain-mlogloss:0.01884\n",
      "[76]\teval-mlogloss:0.00971\ttrain-mlogloss:0.01866\n",
      "[77]\teval-mlogloss:0.00985\ttrain-mlogloss:0.01859\n",
      "[78]\teval-mlogloss:0.00976\ttrain-mlogloss:0.01852\n",
      "[79]\teval-mlogloss:0.00988\ttrain-mlogloss:0.01846\n",
      "[80]\teval-mlogloss:0.00968\ttrain-mlogloss:0.01841\n",
      "[81]\teval-mlogloss:0.00961\ttrain-mlogloss:0.01834\n",
      "[82]\teval-mlogloss:0.00973\ttrain-mlogloss:0.01829\n",
      "[83]\teval-mlogloss:0.00967\ttrain-mlogloss:0.01823\n",
      "[84]\teval-mlogloss:0.00957\ttrain-mlogloss:0.01818\n",
      "[85]\teval-mlogloss:0.00952\ttrain-mlogloss:0.01812\n",
      "[86]\teval-mlogloss:0.00962\ttrain-mlogloss:0.01807\n",
      "[87]\teval-mlogloss:0.00948\ttrain-mlogloss:0.01802\n",
      "[88]\teval-mlogloss:0.00946\ttrain-mlogloss:0.01797\n",
      "[89]\teval-mlogloss:0.00933\ttrain-mlogloss:0.01793\n",
      "[90]\teval-mlogloss:0.00945\ttrain-mlogloss:0.01788\n",
      "[91]\teval-mlogloss:0.00937\ttrain-mlogloss:0.01784\n",
      "[92]\teval-mlogloss:0.00922\ttrain-mlogloss:0.01780\n",
      "[93]\teval-mlogloss:0.00928\ttrain-mlogloss:0.01776\n",
      "[94]\teval-mlogloss:0.00932\ttrain-mlogloss:0.01772\n",
      "[95]\teval-mlogloss:0.00920\ttrain-mlogloss:0.01768\n",
      "[96]\teval-mlogloss:0.00925\ttrain-mlogloss:0.01764\n",
      "[97]\teval-mlogloss:0.00930\ttrain-mlogloss:0.01760\n",
      "[98]\teval-mlogloss:0.00924\ttrain-mlogloss:0.01757\n",
      "[99]\teval-mlogloss:0.00929\ttrain-mlogloss:0.01753\n"
     ]
    },
    {
     "data": {
      "image/png": "[encoded data removed]",
      "text/plain": [
       "<Figure size 640x480 with 1 Axes>"
      ]
     },
     "metadata": {},
     "output_type": "display_data"
    }
   ],
   "source": [
    "import xgboost as xgb\n",
    "from sklearn.datasets import load_iris\n",
    "from sklearn.model_selection import train_test_split\n",
    "import seaborn as sns\n",
    "\n",
    "# Load the Iris dataset\n",
    "iris = load_iris()\n",
    "X, y = iris.data, iris.target\n",
    "\n",
    "# Split the data into training and test sets\n",
    "X_train, X_test, y_train, y_test = train_test_split(X, y, test_size=0.2, random_state=42)\n",
    "\n",
    "# Convert the data into an XGBoost-compatible format\n",
    "dtrain = xgb.DMatrix(X_train, label=y_train)\n",
    "dtest = xgb.DMatrix(X_test, label=y_test)\n",
    "\n",
    "# Define the parameters for the XGBoost model\n",
    "params = {\n",
    "    'objective': 'multi:softmax',  # Specify the learning task and the corresponding learning objective\n",
    "    'num_class': 3,  # Number of classes in the dataset\n",
    "    'tree_method': 'auto',  # Use the efficient tree building algorithm\n",
    "    'nthread': -1,  # Use all available CPU threads\n",
    "}\n",
    "\n",
    "# Train the model\n",
    "evallist = [(dtest, 'eval'), (dtrain, 'train')]  # Specify the datasets for evaluation during training\n",
    "num_round = 100  # Number of rounds (iterations) to run\n",
    "progress = dict()\n",
    "bst = xgb.train(params, dtrain, num_round, evallist, early_stopping_rounds=10, evals_result=progress)\n",
    "\n",
    "# Plot the training loss\n",
    "plt.plot(progress['eval']['mlogloss'], label='validation')\n",
    "plt.plot(progress['train']['mlogloss'], label='training')\n",
    "plt.xlabel(\"Iterations\")\n",
    "plt.ylabel(\"Classification Error\")\n",
    "plt.legend()\n",
    "plt.show()\n"
   ]
  },
  {
   "attachments": {},
   "cell_type": "markdown",
   "metadata": {},
   "source": [
    "#### Using grid search to find the best hyperparameters for an XGBoost classifier on a built-in dataset from scikit-learn, and plotting the training loss:"
   ]
  },
  {
   "attachments": {},
   "cell_type": "markdown",
   "metadata": {},
   "source": [
    "The above code does the following:\n",
    "\n",
    "- Import the necessary libraries: xgboost, scikit-learn's load_iris function, train_test_split function, GridSearchCV and matplotlib for plotting\n",
    "- Load the Iris dataset and split it into training and test sets.\n",
    "- Convert the data into an XGBoost-compatible format using xgb.DMatrix\n",
    "- Define the parameters for the XGBoost model.\n",
    "- Run a grid search using the GridSearchCV function to"
   ]
  },
  {
   "cell_type": "code",
   "execution_count": 49,
   "metadata": {},
   "outputs": [
    {
     "name": "stdout",
     "output_type": "stream",
     "text": [
      "Fitting 5 folds for each of 400 candidates, totalling 2000 fits\n",
      "{'colsample_bytree': 0.8, 'learning_rate': 0.1, 'max_depth': 3, 'n_estimators': 50, 'nthread': -1, 'num_class': 3, 'objective': 'multi:softmax', 'subsample': 0.6, 'tree_method': 'auto'}\n",
      "[02:34:34] WARNING: ../src/learner.cc:767: \n",
      "Parameters: { \"n_estimators\" } are not used.\n",
      "\n",
      "[0]\teval-mlogloss:0.97211\ttrain-mlogloss:0.97781\n",
      "[1]\teval-mlogloss:0.86584\ttrain-mlogloss:0.87562\n",
      "[2]\teval-mlogloss:0.77531\ttrain-mlogloss:0.79009\n",
      "[3]\teval-mlogloss:0.69514\ttrain-mlogloss:0.71414\n",
      "[4]\teval-mlogloss:0.62713\ttrain-mlogloss:0.64813\n",
      "[5]\teval-mlogloss:0.57019\ttrain-mlogloss:0.59289\n",
      "[6]\teval-mlogloss:0.51925\ttrain-mlogloss:0.54248\n",
      "[7]\teval-mlogloss:0.47594\ttrain-mlogloss:0.49836\n",
      "[8]\teval-mlogloss:0.43117\ttrain-mlogloss:0.45625\n",
      "[9]\teval-mlogloss:0.39224\ttrain-mlogloss:0.42046\n",
      "[10]\teval-mlogloss:0.35623\ttrain-mlogloss:0.38757\n",
      "[11]\teval-mlogloss:0.32684\ttrain-mlogloss:0.35687\n",
      "[12]\teval-mlogloss:0.29971\ttrain-mlogloss:0.32998\n",
      "[13]\teval-mlogloss:0.27429\ttrain-mlogloss:0.30729\n",
      "[14]\teval-mlogloss:0.25173\ttrain-mlogloss:0.28601\n",
      "[15]\teval-mlogloss:0.22909\ttrain-mlogloss:0.26522\n",
      "[16]\teval-mlogloss:0.21005\ttrain-mlogloss:0.24749\n",
      "[17]\teval-mlogloss:0.19250\ttrain-mlogloss:0.23111\n",
      "[18]\teval-mlogloss:0.17704\ttrain-mlogloss:0.21732\n",
      "[19]\teval-mlogloss:0.16578\ttrain-mlogloss:0.20354\n",
      "[20]\teval-mlogloss:0.15312\ttrain-mlogloss:0.19277\n",
      "[21]\teval-mlogloss:0.14269\ttrain-mlogloss:0.18267\n",
      "[22]\teval-mlogloss:0.13176\ttrain-mlogloss:0.17262\n",
      "[23]\teval-mlogloss:0.12313\ttrain-mlogloss:0.16408\n",
      "[24]\teval-mlogloss:0.11490\ttrain-mlogloss:0.15578\n",
      "[25]\teval-mlogloss:0.10549\ttrain-mlogloss:0.14800\n",
      "[26]\teval-mlogloss:0.09911\ttrain-mlogloss:0.14022\n",
      "[27]\teval-mlogloss:0.09191\ttrain-mlogloss:0.13396\n",
      "[28]\teval-mlogloss:0.08542\ttrain-mlogloss:0.12792\n",
      "[29]\teval-mlogloss:0.08067\ttrain-mlogloss:0.12296\n",
      "[30]\teval-mlogloss:0.07675\ttrain-mlogloss:0.11829\n",
      "[31]\teval-mlogloss:0.07312\ttrain-mlogloss:0.11383\n",
      "[32]\teval-mlogloss:0.06901\ttrain-mlogloss:0.10966\n",
      "[33]\teval-mlogloss:0.06484\ttrain-mlogloss:0.10617\n",
      "[34]\teval-mlogloss:0.06279\ttrain-mlogloss:0.10306\n",
      "[35]\teval-mlogloss:0.06008\ttrain-mlogloss:0.10007\n",
      "[36]\teval-mlogloss:0.05797\ttrain-mlogloss:0.09724\n",
      "[37]\teval-mlogloss:0.05495\ttrain-mlogloss:0.09439\n",
      "[38]\teval-mlogloss:0.05318\ttrain-mlogloss:0.09188\n",
      "[39]\teval-mlogloss:0.05051\ttrain-mlogloss:0.08894\n",
      "[40]\teval-mlogloss:0.04851\ttrain-mlogloss:0.08616\n",
      "[41]\teval-mlogloss:0.04782\ttrain-mlogloss:0.08414\n",
      "[42]\teval-mlogloss:0.04669\ttrain-mlogloss:0.08214\n",
      "[43]\teval-mlogloss:0.04470\ttrain-mlogloss:0.08051\n",
      "[44]\teval-mlogloss:0.04309\ttrain-mlogloss:0.07952\n",
      "[45]\teval-mlogloss:0.04085\ttrain-mlogloss:0.07743\n",
      "[46]\teval-mlogloss:0.03905\ttrain-mlogloss:0.07591\n",
      "[47]\teval-mlogloss:0.03883\ttrain-mlogloss:0.07410\n",
      "[48]\teval-mlogloss:0.03773\ttrain-mlogloss:0.07267\n",
      "[49]\teval-mlogloss:0.03639\ttrain-mlogloss:0.07191\n",
      "[50]\teval-mlogloss:0.03512\ttrain-mlogloss:0.07094\n",
      "[51]\teval-mlogloss:0.03473\ttrain-mlogloss:0.07042\n",
      "[52]\teval-mlogloss:0.03392\ttrain-mlogloss:0.06907\n",
      "[53]\teval-mlogloss:0.03345\ttrain-mlogloss:0.06857\n",
      "[54]\teval-mlogloss:0.03316\ttrain-mlogloss:0.06786\n",
      "[55]\teval-mlogloss:0.03260\ttrain-mlogloss:0.06683\n",
      "[56]\teval-mlogloss:0.03193\ttrain-mlogloss:0.06662\n",
      "[57]\teval-mlogloss:0.03101\ttrain-mlogloss:0.06609\n",
      "[58]\teval-mlogloss:0.03091\ttrain-mlogloss:0.06585\n",
      "[59]\teval-mlogloss:0.03027\ttrain-mlogloss:0.06534\n",
      "[60]\teval-mlogloss:0.03049\ttrain-mlogloss:0.06475\n",
      "[61]\teval-mlogloss:0.03002\ttrain-mlogloss:0.06422\n",
      "[62]\teval-mlogloss:0.02917\ttrain-mlogloss:0.06384\n",
      "[63]\teval-mlogloss:0.02922\ttrain-mlogloss:0.06365\n",
      "[64]\teval-mlogloss:0.02828\ttrain-mlogloss:0.06341\n",
      "[65]\teval-mlogloss:0.02743\ttrain-mlogloss:0.06244\n",
      "[66]\teval-mlogloss:0.02675\ttrain-mlogloss:0.06222\n",
      "[67]\teval-mlogloss:0.02763\ttrain-mlogloss:0.06174\n",
      "[68]\teval-mlogloss:0.02686\ttrain-mlogloss:0.06117\n",
      "[69]\teval-mlogloss:0.02694\ttrain-mlogloss:0.06062\n",
      "[70]\teval-mlogloss:0.02653\ttrain-mlogloss:0.06051\n",
      "[71]\teval-mlogloss:0.02649\ttrain-mlogloss:0.06003\n",
      "[72]\teval-mlogloss:0.02578\ttrain-mlogloss:0.05953\n",
      "[73]\teval-mlogloss:0.02589\ttrain-mlogloss:0.05892\n",
      "[74]\teval-mlogloss:0.02545\ttrain-mlogloss:0.05848\n",
      "[75]\teval-mlogloss:0.02557\ttrain-mlogloss:0.05816\n",
      "[76]\teval-mlogloss:0.02478\ttrain-mlogloss:0.05749\n",
      "[77]\teval-mlogloss:0.02405\ttrain-mlogloss:0.05721\n",
      "[78]\teval-mlogloss:0.02340\ttrain-mlogloss:0.05642\n",
      "[79]\teval-mlogloss:0.02367\ttrain-mlogloss:0.05603\n",
      "[80]\teval-mlogloss:0.02335\ttrain-mlogloss:0.05585\n",
      "[81]\teval-mlogloss:0.02306\ttrain-mlogloss:0.05547\n",
      "[82]\teval-mlogloss:0.02325\ttrain-mlogloss:0.05533\n"
     ]
    },
    {
     "name": "stderr",
     "output_type": "stream",
     "text": [
      "/home/codespace/.python/current/lib/python3.10/site-packages/xgboost/core.py:617: FutureWarning: Pass `evals` as keyword args.\n",
      "  warnings.warn(msg, FutureWarning)\n"
     ]
    },
    {
     "name": "stdout",
     "output_type": "stream",
     "text": [
      "[83]\teval-mlogloss:0.02314\ttrain-mlogloss:0.05523\n",
      "[84]\teval-mlogloss:0.02346\ttrain-mlogloss:0.05491\n",
      "[85]\teval-mlogloss:0.02352\ttrain-mlogloss:0.05466\n",
      "[86]\teval-mlogloss:0.02316\ttrain-mlogloss:0.05415\n",
      "[87]\teval-mlogloss:0.02362\ttrain-mlogloss:0.05383\n",
      "[88]\teval-mlogloss:0.02277\ttrain-mlogloss:0.05363\n",
      "[89]\teval-mlogloss:0.02234\ttrain-mlogloss:0.05344\n",
      "[90]\teval-mlogloss:0.02266\ttrain-mlogloss:0.05318\n",
      "[91]\teval-mlogloss:0.02226\ttrain-mlogloss:0.05306\n",
      "[92]\teval-mlogloss:0.02260\ttrain-mlogloss:0.05282\n",
      "[93]\teval-mlogloss:0.02267\ttrain-mlogloss:0.05262\n",
      "[94]\teval-mlogloss:0.02252\ttrain-mlogloss:0.05250\n",
      "[95]\teval-mlogloss:0.02219\ttrain-mlogloss:0.05229\n",
      "[96]\teval-mlogloss:0.02222\ttrain-mlogloss:0.05210\n",
      "[97]\teval-mlogloss:0.02223\ttrain-mlogloss:0.05186\n",
      "[98]\teval-mlogloss:0.02151\ttrain-mlogloss:0.05159\n",
      "[99]\teval-mlogloss:0.02109\ttrain-mlogloss:0.05128\n"
     ]
    },
    {
     "data": {
      "image/png": "[encoded data removed]",
      "text/plain": [
       "<Figure size 640x480 with 1 Axes>"
      ]
     },
     "metadata": {},
     "output_type": "display_data"
    }
   ],
   "source": [
    "import xgboost as xgb\n",
    "from sklearn.datasets import load_iris\n",
    "from sklearn.model_selection import train_test_split, GridSearchCV\n",
    "import matplotlib.pyplot as plt\n",
    "\n",
    "# Load the Iris dataset\n",
    "iris = load_iris()\n",
    "X, y = iris.data, iris.target\n",
    "\n",
    "# Split the data into training and test sets\n",
    "X_train, X_test, y_train, y_test = train_test_split(X, y, test_size=0.2, random_state=42)\n",
    "\n",
    "# Convert the data into an XGBoost-compatible format\n",
    "dtrain = xgb.DMatrix(X_train, label=y_train)\n",
    "dtest = xgb.DMatrix(X_test, label=y_test)\n",
    "\n",
    "# Define the parameters for the XGBoost model\n",
    "param_grid = {\n",
    "    'objective': ['multi:softmax'],  # Specify the learning task and the corresponding learning objective\n",
    "    'num_class': [3],  # Number of classes in the dataset\n",
    "    'tree_method': ['auto'],  # Use the efficient tree building algorithm\n",
    "    'nthread': [-1],  # Use all available CPU threads\n",
    "    'learning_rate': [0.1, 0.2],\n",
    "    'max_depth': [3, 4, 5, 6],\n",
    "    'subsample': [0.5, 0.6, 0.7, 0.8, 0.9],\n",
    "    'colsample_bytree': [0.5, 0.6, 0.7, 0.8, 0.9],\n",
    "    'n_estimators': [50, 100]\n",
    "}\n",
    "\n",
    "# Define the model\n",
    "model = xgb.XGBClassifier()\n",
    "\n",
    "# Run GridSearchCV\n",
    "grid_search = GridSearchCV(model, param_grid, cv=5, n_jobs=-1, verbose=1)\n",
    "grid_search.fit(X_train, y_train)\n",
    "\n",
    "# Print the best parameters\n",
    "print(grid_search.best_params_)\n",
    "\n",
    "# Train the model with the best parameters\n",
    "params = grid_search.best_params_\n",
    "num_round = 100  # Number of rounds (iterations) to run\n",
    "progress = dict()\n",
    "bst = xgb.train(params, dtrain, num_round, evallist, early_stopping_rounds=10, evals_result=progress)\n",
    "\n",
    "# Plot the training loss\n",
    "plt.plot(progress['eval']['mlogloss'], label='validation')\n",
    "plt.plot(progress['train']['mlogloss'], label='training')\n",
    "plt.xlabel(\"Iterations\")\n",
    "plt.ylabel(\"Classification Error\")\n",
    "plt.legend()\n",
    "plt.show()\n"
   ]
  },
  {
   "attachments": {},
   "cell_type": "markdown",
   "metadata": {},
   "source": [
    "**Next Steps:**\n",
    "\n",
    "- Understanding Overfitting and Underfitting: Learn about the concepts of overfitting and underfitting, and how they can affect the performance of a model on unseen data.\n",
    "\n",
    "- Cross-Validation Techniques: Study different techniques of cross-validation, such as K-fold and Leave-one-out, and learn how to use them to evaluate and improve the performance of a model.\n",
    "\n",
    "- Regularization Methods: Study the concepts of L1 and L2 regularization, and learn how to use them to prevent overfitting and improve the generalization of a model.\n",
    "\n",
    "- Hyperparameter Tuning: Study the techniques of hyperparameter tuning, such as grid search and random search, and learn how to use them to find the optimal set of hyperparameters for a model.\n",
    "\n",
    "- Ensembles: Study the concept of model ensembling and learn how to combine multiple models to improve the performance and robustness of a model.\n",
    "\n",
    "- Evaluation Metrics: Study different evaluation metrics, such as accuracy, precision, recall and F1 score, and learn how to use them to evaluate the performance of a model."
   ]
  },
  {
   "cell_type": "code",
   "execution_count": null,
   "metadata": {},
   "outputs": [],
   "source": []
  }
 ],
 "metadata": {
  "kernelspec": {
   "display_name": "Python 3",
   "language": "python",
   "name": "python3"
  },
  "language_info": {
   "codemirror_mode": {
    "name": "ipython",
    "version": 3
   },
   "file_extension": ".py",
   "mimetype": "text/x-python",
   "name": "python",
   "nbconvert_exporter": "python",
   "pygments_lexer": "ipython3",
   "version": "3.10.4"
  },
  "orig_nbformat": 4,
  "vscode": {
   "interpreter": {
    "hash": "3ad933181bd8a04b432d3370b9dc3b0662ad032c4dfaa4e4f1596c548f763858"
   }
  }
 },
 "nbformat": 4,
 "nbformat_minor": 2
}
