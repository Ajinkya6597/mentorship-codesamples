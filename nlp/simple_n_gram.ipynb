{
  "nbformat": 4,
  "nbformat_minor": 0,
  "metadata": {
    "colab": {
      "provenance": []
    },
    "kernelspec": {
      "name": "python3",
      "display_name": "Python 3"
    },
    "language_info": {
      "name": "python"
    }
  },
  "cells": [
    {
      "cell_type": "markdown",
      "source": [
        "#Example of how to generate n-grams and compute their probabilities using Python.\n",
        "\n",
        "This code defines two functions:\n",
        "\n",
        "`generate_ngrams`: This function takes a string `s` and an integer `n` as input and returns a list of n-grams extracted from the input string. The function first splits the input string into a list of words and then iterates through the list of words to extract the n-grams.\n",
        "\n",
        "`compute_ngram_probabilities`: This function takes a list of n-grams as input and returns a dictionary mapping each n-gram to its probability. The function first counts the frequency of each n-gram in the input list and then divides each frequency by the total number of n-grams to compute the probability."
      ],
      "metadata": {
        "id": "57sqcqQ2RqVG"
      }
    },
    {
      "cell_type": "code",
      "source": [
        "def generate_ngrams(s, n):\n",
        "  # Convert the input string to a list of words\n",
        "  words = s.split()\n",
        "\n",
        "  # Create a list to store the n-grams\n",
        "  ngrams = []\n",
        "\n",
        "  # Iterate through the list of words and extract the n-grams\n",
        "  for i in range(len(words)-n+1):\n",
        "    ngrams.append(' '.join(words[i:i+n]))\n",
        "\n",
        "  return ngrams"
      ],
      "metadata": {
        "id": "wR4-4B_CP8S-"
      },
      "execution_count": 27,
      "outputs": []
    },
    {
      "cell_type": "code",
      "execution_count": 28,
      "metadata": {
        "id": "kR7CxaesN_zo"
      },
      "outputs": [],
      "source": [
        "def compute_ngram_probabilities(ngrams):\n",
        "  # Create a dictionary to store the n-gram frequencies\n",
        "  ngram_frequencies = {}\n",
        "\n",
        "  # Iterate through the list of n-grams and count the frequencies\n",
        "  for ngram in ngrams:\n",
        "    if ngram in ngram_frequencies:\n",
        "      ngram_frequencies[ngram] += 1\n",
        "    else:\n",
        "      ngram_frequencies[ngram] = 1\n",
        "\n",
        "  # Compute the probabilities for each n-gram\n",
        "  ngram_probabilities = {}\n",
        "  for ngram, frequency in ngram_frequencies.items():\n",
        "    probability = frequency / len(ngrams)\n",
        "    ngram_probabilities[ngram] = probability\n",
        "\n",
        "  return ngram_probabilities"
      ]
    },
    {
      "cell_type": "markdown",
      "source": [
        "The code also includes a test case that generates bigrams (2-grams) from a sample string and computes the probabilities of the bigrams. When run, the code will output the following:"
      ],
      "metadata": {
        "id": "sq8i7mY6R2Y9"
      }
    },
    {
      "cell_type": "code",
      "source": [
        "# Test the functions with a sample string\n",
        "s = \"I love to eat pizza\"\n",
        "ngrams = generate_ngrams(s, 2)\n",
        "probabilities = compute_ngram_probabilities(ngrams)\n",
        "\n",
        "print(probabilities)"
      ],
      "metadata": {
        "colab": {
          "base_uri": "https://localhost:8080/"
        },
        "id": "3PhGznHrQvqc",
        "outputId": "6207e0c1-c14f-42dc-c8d8-58135de2f2af"
      },
      "execution_count": 30,
      "outputs": [
        {
          "output_type": "stream",
          "name": "stdout",
          "text": [
            "{'I love': 0.25, 'love to': 0.25, 'to eat': 0.25, 'eat pizza': 0.25}\n"
          ]
        }
      ]
    },
    {
      "cell_type": "code",
      "source": [],
      "metadata": {
        "id": "1e8EX1V_R6gS"
      },
      "execution_count": null,
      "outputs": []
    }
  ]
}